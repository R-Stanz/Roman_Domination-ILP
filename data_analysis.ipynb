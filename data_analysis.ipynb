{
 "cells": [
  {
   "cell_type": "code",
   "execution_count": 19,
   "id": "d88863cf-ebf6-4188-a792-cb9fcbdd9426",
   "metadata": {},
   "outputs": [],
   "source": [
    "import pandas as pd\n",
    "import matplotlib.pyplot as plt"
   ]
  },
  {
   "cell_type": "code",
   "execution_count": 20,
   "id": "65e9945f-4f65-4823-b01b-39da16b07395",
   "metadata": {},
   "outputs": [],
   "source": [
    "rr_df = pd.read_csv('./data/fabio_rr_results.csv')\n",
    "rr_sizes = set(rr_df['size'].values)"
   ]
  },
  {
   "cell_type": "code",
   "execution_count": 21,
   "id": "93850e55-2185-4510-bef6-9e469067c752",
   "metadata": {},
   "outputs": [],
   "source": [
    "rr_imp_df = pd.read_csv('./data/fabio_rr_imp_results.csv')\n",
    "rr_imp_sizes = set(rr_imp_df['size'].values)"
   ]
  },
  {
   "cell_type": "code",
   "execution_count": 22,
   "id": "164525c3-cb00-46bb-b2cb-b5a7db043f81",
   "metadata": {},
   "outputs": [],
   "source": [
    "def time_hist_by_type():\n",
    "    for rr_size in rr_sizes:\n",
    "        if rr_size not in rr_imp_sizes:\n",
    "            raise "
   ]
  },
  {
   "cell_type": "code",
   "execution_count": 23,
   "id": "824b13b9-23a6-4477-9885-d0f98aed9884",
   "metadata": {},
   "outputs": [
    {
     "name": "stdout",
     "output_type": "stream",
     "text": [
      "{100, 40, 10, 80, 20}\n"
     ]
    }
   ],
   "source": [
    "time_hist_by_size()"
   ]
  },
  {
   "cell_type": "code",
   "execution_count": 9,
   "id": "72c28e91-3c8f-4bfe-b789-9a074c303263",
   "metadata": {},
   "outputs": [
    {
     "data": {
      "text/plain": [
       "(array([[596.,   0.,   0.,   0.,   0.,   0.,   0.,   0.,   0.,   0.],\n",
       "        [596.,   0.,   0.,   0.,   0.,   0.,   0.,   0.,   0.,   0.],\n",
       "        [596.,   0.,   0.,   0.,   0.,   0.,   0.,   0.,   0.,   0.],\n",
       "        [596.,   0.,   0.,   0.,   0.,   0.,   0.,   0.,   0.,   0.],\n",
       "        [549.,  40.,   1.,   1.,   1.,   0.,   1.,   1.,   0.,   2.],\n",
       "        [596.,   0.,   0.,   0.,   0.,   0.,   0.,   0.,   0.,   0.],\n",
       "        [596.,   0.,   0.,   0.,   0.,   0.,   0.,   0.,   0.,   0.]]),\n",
       " array([     0. ,  21609.3,  43218.6,  64827.9,  86437.2, 108046.5,\n",
       "        129655.8, 151265.1, 172874.4, 194483.7, 216093. ]),\n",
       " <a list of 7 BarContainer objects>)"
      ]
     },
     "execution_count": 9,
     "metadata": {},
     "output_type": "execute_result"
    },
    {
     "data": {
      "image/png": "[encoded data removed]",
      "text/plain": [
       "<Figure size 640x480 with 1 Axes>"
      ]
     },
     "metadata": {},
     "output_type": "display_data"
    }
   ],
   "source": [
    "plt.hist(rr_df.loc(rr_df['size']  ))"
   ]
  },
  {
   "cell_type": "code",
   "execution_count": null,
   "id": "3592ae32-0e13-4d31-9ad7-491507a02149",
   "metadata": {},
   "outputs": [],
   "source": []
  }
 ],
 "metadata": {
  "kernelspec": {
   "display_name": "Python 3 (ipykernel)",
   "language": "python",
   "name": "python3"
  },
  "language_info": {
   "codemirror_mode": {
    "name": "ipython",
    "version": 3
   },
   "file_extension": ".py",
   "mimetype": "text/x-python",
   "name": "python",
   "nbconvert_exporter": "python",
   "pygments_lexer": "ipython3",
   "version": "3.10.12"
  }
 },
 "nbformat": 4,
 "nbformat_minor": 5
}
